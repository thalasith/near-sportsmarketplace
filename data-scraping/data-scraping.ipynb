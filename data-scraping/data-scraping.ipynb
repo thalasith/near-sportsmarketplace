{
 "cells": [
  {
   "cell_type": "code",
   "execution_count": 18,
   "metadata": {},
   "outputs": [],
   "source": [
    "import requests\n",
    "r = requests.get('http://data.nba.net/10s/prod/v2/2022/teams.json').json()\n",
    "teams_data = r[\"league\"][\"standard\"]\n",
    "\n",
    "teams = []\n",
    "\n",
    "for team in teams_data:\n",
    "    filler_dict = {\n",
    "        \"team_id\": team[\"teamId\"],\n",
    "        \"team_name\": team[\"fullName\"],\n",
    "        \"team_tri_code\": team[\"tricode\"],\n",
    "    }\n",
    "    teams.append(filler_dict)\n"
   ]
  },
  {
   "cell_type": "code",
   "execution_count": null,
   "metadata": {},
   "outputs": [],
   "source": [
    "schedule_data = requests.get('https://data.nba.net/10s/prod/v1/2021/schedule.json').json()[\"league\"][\"standard\"]\n",
    "\n",
    "\n",
    "schedule = []\n",
    "\n",
    "for game in schedule_data:\n",
    "    \n"
   ]
  }
 ],
 "metadata": {
  "kernelspec": {
   "display_name": "Python 3.10.5 64-bit",
   "language": "python",
   "name": "python3"
  },
  "language_info": {
   "codemirror_mode": {
    "name": "ipython",
    "version": 3
   },
   "file_extension": ".py",
   "mimetype": "text/x-python",
   "name": "python",
   "nbconvert_exporter": "python",
   "pygments_lexer": "ipython3",
   "version": "3.10.5"
  },
  "orig_nbformat": 4,
  "vscode": {
   "interpreter": {
    "hash": "aee8b7b246df8f9039afb4144a1f6fd8d2ca17a180786b69acc140d282b71a49"
   }
  }
 },
 "nbformat": 4,
 "nbformat_minor": 2
}
